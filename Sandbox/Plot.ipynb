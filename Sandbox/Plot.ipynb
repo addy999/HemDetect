{
 "cells": [
  {
   "cell_type": "code",
   "execution_count": 1,
   "metadata": {},
   "outputs": [],
   "source": [
    "import torch.nn as nn\n",
    "import torch.nn.functional as F\n",
    "import torch.optim as optim\n",
    "import torchvision\n",
    "import torchvision.transforms as transforms\n",
    "from torchvision import datasets\n",
    "import numpy as np\n",
    "import matplotlib.pyplot as plt\n",
    "import time\n",
    "import torch\n",
    "from PIL import Image\n",
    "import sys\n",
    "import os\n",
    "import pandas as pd\n",
    "sys.path.append(r'../Data/')\n",
    "from dataloader import Data"
   ]
  },
  {
   "cell_type": "code",
   "execution_count": 2,
   "metadata": {},
   "outputs": [],
   "source": [
    "def plotLosses(model_save_path):\n",
    "    \n",
    "    # Find csv\n",
    "    files = os.listdir(model_save_path)\n",
    "    csv_file = [file for file in files if \".csv\" in file][0] \n",
    "    loss = pd.read_csv(os.path.join(model_save_path, csv_file))\n",
    "    \n",
    "    plt.title(\"Training Loss Curve\")\n",
    "    plt.plot(loss, label=\"Train\")\n",
    "    plt.xlabel(\"Iterations\")\n",
    "    plt.ylabel(\"Loss\")\n",
    "    plt.show()\n",
    "    "
   ]
  },
  {
   "cell_type": "code",
   "execution_count": 12,
   "metadata": {},
   "outputs": [],
   "source": [
    "def longestSubstringFinder(string1, string2):\n",
    "    answer = \"\"\n",
    "    len1, len2 = len(string1), len(string2)\n",
    "    for i in range(len1):\n",
    "        match = \"\"\n",
    "        for j in range(len2):\n",
    "            if (i + j < len1 and string1[i + j] == string2[j]):\n",
    "                match += string2[j]\n",
    "            else:\n",
    "                if (len(match) > len(answer)): answer = match\n",
    "                match = \"\"\n",
    "    return answer\n",
    "\n",
    "def getUniqueBtwStrings(strings):\n",
    "    \n",
    "    common_factor = longestSubstringFinder(strings[0], strings[1])\n",
    "    unique = []\n",
    "    for string in strings:\n",
    "        r = string.replace(common_factor, \"\").replace(\"_epoch\", \"\")\n",
    "        unique.append(r)\n",
    "    return unique\n",
    "\n",
    "def findBs(string):\n",
    "    end_idx = string.find(\"_bs\")\n",
    "    return string[:end_idx]\n",
    "\n",
    "def getAccuracy(model, data_loader, use_cuda):\n",
    "\n",
    "    cor = 0\n",
    "    total = 0\n",
    "    n = 0\n",
    "    for imgs, labels in data_loader:\n",
    "        imgs = torch.from_numpy(imgs.detach().numpy())\n",
    "        #To Enable GPU Usage\n",
    "        if use_cuda and torch.cuda.is_available():\n",
    "            imgs = imgs.cuda()\n",
    "            labels = labels.cuda()\n",
    "        #############################################\n",
    "        output = model(imgs)\n",
    "        pred = output.max(1, keepdim=True)[1]\n",
    "        cor = cor + pred.eq(labels.view_as(pred)).sum().item()\n",
    "        total = total + imgs.shape[0]\n",
    "        n = n+1\n",
    "    return cor / total\n",
    "\n",
    "def plotAccuracy(model_class, model_save_path, val_dataset, train_dataset = None, use_cuda = False):\n",
    "    \n",
    "    model_dicts = [file for file in os.listdir(model_save_path) if \".csv\" not in file]\n",
    "    if train_dataset:\n",
    "        t_data_loader = torch.utils.data.DataLoader(train_dataset, batch_size=findBs(model_dicts[0]))\n",
    "    v_data_loader = torch.utils.data.DataLoader(val_dataset, batch_size=32)\n",
    "    epochs, t_accs, v_accs = getUniqueBtwStrings(model_dicts), [], []\n",
    "    i = 0\n",
    "    \n",
    "    # for each model dict, create model\n",
    "    for model_params in model_dicts:\n",
    "        print(i)\n",
    "        # load model\n",
    "        model = model_class()\n",
    "        checkpoint = torch.load(os.path.join(model_save_path, model_params))\n",
    "        model.load_state_dict(checkpoint)\n",
    "        # get acc for model and append\n",
    "        if train_dataset:\n",
    "            t_accs.append(getAccuracy(model, t_data_loader, use_cuda))\n",
    "        v_accs.append(getAccuracy(model, v_data_loader, use_cuda))\n",
    "        i+=1\n",
    "    \n",
    "    # Plot    \n",
    "    plt.title(\"Training vs. Validation Accuracy Curves\")\n",
    "    if train_dataset:\n",
    "        plt.plot(epochs, t_accs, label=\"Train\")\n",
    "    plt.plot(epochs, v_accs, label=\"Validation\")\n",
    "    plt.xlabel(\"Iterations\")\n",
    "    plt.ylabel(\"Accuracy\")\n",
    "    plt.legend(loc='best')\n",
    "    plt.show() "
   ]
  },
  {
   "cell_type": "markdown",
   "metadata": {},
   "source": [
    "# Example"
   ]
  },
  {
   "cell_type": "code",
   "execution_count": 5,
   "metadata": {},
   "outputs": [
    {
     "data": {
      "image/png": "[encoded data removed]",
      "text/plain": [
       "<Figure size 432x288 with 1 Axes>"
      ]
     },
     "metadata": {
      "needs_background": "light"
     },
     "output_type": "display_data"
    }
   ],
   "source": [
    "plotLosses(\"Model_Overfit_detector_Alex\")"
   ]
  },
  {
   "cell_type": "code",
   "execution_count": 11,
   "metadata": {},
   "outputs": [
    {
     "name": "stdout",
     "output_type": "stream",
     "text": [
      "Unpacking epidural\n",
      "Unpacking intraparenchymal\n",
      "Unpacking subarachnoid\n",
      "Unpacking intraventricular\n",
      "Unpacking subdural\n",
      "Unpacking nohem\n"
     ]
    }
   ],
   "source": [
    "import torch.nn as nn\n",
    "import torchvision.models\n",
    "\n",
    "val_folders = [\n",
    "    \"../Data/Processed/val/epidural\",\n",
    "    \"../Data/Processed/val/intraparenchymal\",\n",
    "    \"../Data/Processed/val/subarachnoid\",\n",
    "    \"../Data/Processed/val/intraventricular\",\n",
    "    \"../Data/Processed/val/subdural\",\n",
    "    \"../Data/Processed/val/nohem\",\n",
    "]\n",
    "\n",
    "val_data = Data(val_folders, {\n",
    "    \"epidural\":\"any\", \n",
    "    \"intraparenchymal\":\"any\", \n",
    "    \"subarachnoid\":\"any\", \n",
    "    \"intraventricular\":\"any\", \n",
    "    \"subdural\":\"any\", \n",
    "}, 10)\n",
    "\n",
    "# from Full_detector_training import HemorrhageDetector\n",
    "\n",
    "alexnet_model = torchvision.models.alexnet(pretrained=True)\n",
    "alexnet_model.features[0] = nn.Conv2d(1, 64, kernel_size= 7, stride= 2, padding= 3)\n",
    "\n",
    "class HemorrhageDetector(nn.Module):\n",
    "    def __init__(self):\n",
    "        super(HemorrhageDetector, self).__init__()\n",
    "        self.name = \"Detector\"\n",
    "\n",
    "        for param in alexnet_model.parameters():\n",
    "              param.requires_grad = False\n",
    "\n",
    "        self.fc1 = nn.Linear(256*31*31, 100)\n",
    "        self.fc2 = nn.Linear(100, 2)\n",
    "\n",
    "    def forward(self, x):\n",
    "        x = alexnet_model.features(x)\n",
    "#         print(x.shape)\n",
    "        x = x.view(-1, 256*31*31)\n",
    "        x = F.relu(self.fc1(x))\n",
    "        x = self.fc2(x)\n",
    "\n",
    "        return x"
   ]
  },
  {
   "cell_type": "code",
   "execution_count": null,
   "metadata": {},
   "outputs": [
    {
     "name": "stdout",
     "output_type": "stream",
     "text": [
      "0\n",
      "1\n",
      "2\n",
      "3\n"
     ]
    }
   ],
   "source": [
    "plotAccuracy(HemorrhageDetector, \"Model_Overfit_detector_Alex\", val_data)"
   ]
  }
 ],
 "metadata": {
  "kernelspec": {
   "display_name": "Python 3",
   "language": "python",
   "name": "python3"
  },
  "language_info": {
   "codemirror_mode": {
    "name": "ipython",
    "version": 3
   },
   "file_extension": ".py",
   "mimetype": "text/x-python",
   "name": "python",
   "nbconvert_exporter": "python",
   "pygments_lexer": "ipython3",
   "version": "3.7.3"
  }
 },
 "nbformat": 4,
 "nbformat_minor": 2
}
