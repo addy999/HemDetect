{
 "cells": [
  {
   "cell_type": "code",
   "execution_count": 1,
   "metadata": {},
   "outputs": [],
   "source": [
    "import torch.nn as nn\n",
    "import torch.nn.functional as F\n",
    "import torch.optim as optim\n",
    "import torchvision\n",
    "import torchvision.transforms as transforms\n",
    "from torchvision import datasets\n",
    "import numpy as np\n",
    "import matplotlib.pyplot as plt\n",
    "import time\n",
    "import torch\n",
    "from PIL import Image\n",
    "import sys\n",
    "import os\n",
    "import pandas as pd\n",
    "sys.path.append(r'../Data/')\n",
    "from dataloader import Data"
   ]
  },
  {
   "cell_type": "code",
   "execution_count": 2,
   "metadata": {},
   "outputs": [],
   "source": [
    "def plotLosses(model_save_path):\n",
    "    \n",
    "    # Find csv\n",
    "    files = os.listdir(model_save_path)\n",
    "    csv_file = [file for file in files if \".csv\" in file][0] \n",
    "    loss = pd.read_csv(os.path.join(model_save_path, csv_file))\n",
    "    \n",
    "    plt.title(\"Training Loss Curve\")\n",
    "    plt.plot(loss, label=\"Train\")\n",
    "    plt.xlabel(\"Iterations\")\n",
    "    plt.ylabel(\"Loss\")\n",
    "    plt.show()\n",
    "    return loss\n",
    "    "
   ]
  },
  {
   "cell_type": "code",
   "execution_count": null,
   "metadata": {},
   "outputs": [],
   "source": []
  },
  {
   "cell_type": "code",
   "execution_count": 4,
   "metadata": {},
   "outputs": [],
   "source": [
    "def longestSubstringFinder(string1, string2):\n",
    "    answer = \"\"\n",
    "    len1, len2 = len(string1), len(string2)\n",
    "    for i in range(len1):\n",
    "        match = \"\"\n",
    "        for j in range(len2):\n",
    "            if (i + j < len1 and string1[i + j] == string2[j]):\n",
    "                match += string2[j]\n",
    "            else:\n",
    "                if (len(match) > len(answer)): answer = match\n",
    "                match = \"\"\n",
    "    return answer\n",
    "\n",
    "def getUniqueBtwStrings(strings):\n",
    "    \n",
    "    common_factor = longestSubstringFinder(strings[0], strings[1])\n",
    "    unique = []\n",
    "    for string in strings:\n",
    "        r = string.replace(common_factor, \"\").replace(\"_epoch\", \"\")\n",
    "        unique.append(int(r))\n",
    "    return unique\n",
    "\n",
    "def findBs(string):\n",
    "    end_idx = string.find(\"_bs\")\n",
    "    return int(string[:end_idx])\n",
    "\n",
    "def getAccuracy(model, data_loader, use_cuda):\n",
    "\n",
    "    cor = 0\n",
    "    total = 0\n",
    "    n = 0\n",
    "    for imgs, labels in data_loader:\n",
    "        imgs = torch.from_numpy(imgs.detach().numpy())\n",
    "        #To Enable GPU Usage\n",
    "        if use_cuda and torch.cuda.is_available():\n",
    "            imgs = imgs.cuda()\n",
    "            labels = labels.cuda()\n",
    "        #############################################\n",
    "        output = model(imgs)\n",
    "        pred = output.max(1, keepdim=True)[1]\n",
    "        cor = cor + pred.eq(labels.view_as(pred)).sum().item()\n",
    "        total = total + imgs.shape[0]\n",
    "        n = n+1\n",
    "    return cor / total\n",
    "\n",
    "def plotAccuracy(model_class, model_save_path, val_dataset, train_dataset = None, use_cuda = False):\n",
    "    \n",
    "    model_dicts = [file for file in os.listdir(model_save_path) if \".csv\" not in file]\n",
    "    if train_dataset:\n",
    "        t_data_loader = torch.utils.data.DataLoader(train_dataset, batch_size=findBs(model_dicts[0]))\n",
    "    v_data_loader = torch.utils.data.DataLoader(val_dataset, batch_size=32)\n",
    "    epochs = dict(zip(getUniqueBtwStrings(model_dicts), [[] for i in getUniqueBtwStrings(model_dicts)]))\n",
    "    i = 0\n",
    "    \n",
    "#     for each model dict, create model\n",
    "    for model_params,epoch in zip(model_dicts, epochs):\n",
    "        print(i)\n",
    "        # load model\n",
    "        model = model_class()\n",
    "        checkpoint = torch.load(os.path.join(model_save_path, model_params))\n",
    "        model.load_state_dict(checkpoint)\n",
    "        # get acc for model and append\n",
    "        if train_dataset:\n",
    "            epochs[epoch].append(getAccuracy(model, t_data_loader, use_cuda))\n",
    "        else:\n",
    "            epochs[epoch].append(None)\n",
    "        epochs[epoch].append(getAccuracy(model, v_data_loader, use_cuda))\n",
    "        i+=1\n",
    "    \n",
    "    # Plot    \n",
    "    \n",
    "    sorted_epochs = {i:epochs[i] for i in sorted(epochs)}\n",
    "    \n",
    "    plt.title(\"Accuracy Curves\")\n",
    "    plt.plot([i for i in sorted_epochs], [sorted_epochs[i][0] for i in sorted_epochs], label=\"Train\")\n",
    "    plt.plot([i for i in sorted_epochs], [sorted_epochs[i][1] for i in sorted_epochs], label=\"Validation\")\n",
    "    plt.xlabel(\"Iterations\")\n",
    "    plt.ylabel(\"Accuracy\")\n",
    "    plt.legend(loc='best')\n",
    "    plt.show() "
   ]
  },
  {
   "cell_type": "code",
   "execution_count": 42,
   "metadata": {},
   "outputs": [
    {
     "name": "stdout",
     "output_type": "stream",
     "text": [
      "Train...\n",
      "Unpacking epidural\n",
      "Unpacking intraparenchymal\n",
      "Unpacking subarachnoid\n",
      "Unpacking intraventricular\n",
      "Unpacking subdural\n",
      "Unpacking nohem\n",
      "Val....\n",
      "Unpacking epidural\n",
      "Unpacking intraparenchymal\n",
      "Unpacking subarachnoid\n",
      "Unpacking intraventricular\n",
      "Unpacking subdural\n",
      "Unpacking nohem\n"
     ]
    }
   ],
   "source": [
    "print(\"Train...\")\n",
    "\n",
    "training_folders = [\n",
    "    \"../Data/Processed/train/epidural\",\n",
    "    \"../Data/Processed/train/intraparenchymal\",\n",
    "    \"../Data/Processed/train/subarachnoid\",\n",
    "    \"../Data/Processed/train/intraventricular\",\n",
    "    \"../Data/Processed/train/subdural\",\n",
    "    \"../Data/Processed/train/nohem\",\n",
    "]\n",
    "\n",
    "train_data = Data(training_folders, {\n",
    "    \"epidural\":\"any\", \n",
    "    \"intraparenchymal\":\"any\", \n",
    "    \"subarachnoid\":\"any\", \n",
    "    \"intraventricular\":\"any\", \n",
    "    \"subdural\":\"any\", \n",
    "}, 100, 256)\n",
    "\n",
    "print(\"Val....\")\n",
    "\n",
    "val_folders = [\n",
    "    \"../Data/Processed/val/epidural\",\n",
    "    \"../Data/Processed/val/intraparenchymal\",\n",
    "    \"../Data/Processed/val/subarachnoid\",\n",
    "    \"../Data/Processed/val/intraventricular\",\n",
    "    \"../Data/Processed/val/subdural\",\n",
    "    \"../Data/Processed/val/nohem\",\n",
    "]\n",
    "\n",
    "val_data = Data(val_folders, {\n",
    "    \"epidural\":\"any\", \n",
    "    \"intraparenchymal\":\"any\", \n",
    "    \"subarachnoid\":\"any\", \n",
    "    \"intraventricular\":\"any\", \n",
    "    \"subdural\":\"any\", \n",
    "}, 50, False)"
   ]
  },
  {
   "cell_type": "markdown",
   "metadata": {},
   "source": [
    "# Overfit"
   ]
  },
  {
   "cell_type": "code",
   "execution_count": 16,
   "metadata": {},
   "outputs": [],
   "source": [
    "import torch.nn as nn\n",
    "import torchvision.models\n",
    "\n",
    "# from Full_detector_training import HemorrhageDetector\n",
    "\n",
    "alexnet_model = torchvision.models.alexnet(pretrained=True)\n",
    "alexnet_model.features[0] = nn.Conv2d(1, 64, kernel_size= 7, stride= 2, padding= 3)\n",
    "\n",
    "class HemorrhageDetector(nn.Module):\n",
    "    def __init__(self):\n",
    "        super(HemorrhageDetector, self).__init__()\n",
    "        self.name = \"Detector\"\n",
    "\n",
    "        for param in alexnet_model.parameters():\n",
    "              param.requires_grad = False\n",
    "\n",
    "        self.fc1 = nn.Linear(256*31*31, 100)\n",
    "        self.fc2 = nn.Linear(100, 2)\n",
    "\n",
    "    def forward(self, x):\n",
    "        x = alexnet_model.features(x)\n",
    "#         print(x.shape)\n",
    "        x = x.view(-1, 256*31*31)\n",
    "        x = F.relu(self.fc1(x))\n",
    "        x = self.fc2(x)\n",
    "\n",
    "        return x"
   ]
  },
  {
   "cell_type": "code",
   "execution_count": 5,
   "metadata": {},
   "outputs": [
    {
     "data": {
      "image/png": "[encoded data removed]",
      "text/plain": [
       "<Figure size 432x288 with 1 Axes>"
      ]
     },
     "metadata": {
      "needs_background": "light"
     },
     "output_type": "display_data"
    },
    {
     "data": {
      "text/html": [
       "<div>\n",
       "<style scoped>\n",
       "    .dataframe tbody tr th:only-of-type {\n",
       "        vertical-align: middle;\n",
       "    }\n",
       "\n",
       "    .dataframe tbody tr th {\n",
       "        vertical-align: top;\n",
       "    }\n",
       "\n",
       "    .dataframe thead th {\n",
       "        text-align: right;\n",
       "    }\n",
       "</style>\n",
       "<table border=\"1\" class=\"dataframe\">\n",
       "  <thead>\n",
       "    <tr style=\"text-align: right;\">\n",
       "      <th></th>\n",
       "      <th>1.043893583118915558e-02</th>\n",
       "    </tr>\n",
       "  </thead>\n",
       "  <tbody>\n",
       "    <tr>\n",
       "      <td>0</td>\n",
       "      <td>0.0</td>\n",
       "    </tr>\n",
       "    <tr>\n",
       "      <td>1</td>\n",
       "      <td>0.0</td>\n",
       "    </tr>\n",
       "    <tr>\n",
       "      <td>2</td>\n",
       "      <td>0.0</td>\n",
       "    </tr>\n",
       "    <tr>\n",
       "      <td>3</td>\n",
       "      <td>0.0</td>\n",
       "    </tr>\n",
       "    <tr>\n",
       "      <td>4</td>\n",
       "      <td>0.0</td>\n",
       "    </tr>\n",
       "    <tr>\n",
       "      <td>...</td>\n",
       "      <td>...</td>\n",
       "    </tr>\n",
       "    <tr>\n",
       "      <td>374</td>\n",
       "      <td>NaN</td>\n",
       "    </tr>\n",
       "    <tr>\n",
       "      <td>375</td>\n",
       "      <td>NaN</td>\n",
       "    </tr>\n",
       "    <tr>\n",
       "      <td>376</td>\n",
       "      <td>NaN</td>\n",
       "    </tr>\n",
       "    <tr>\n",
       "      <td>377</td>\n",
       "      <td>NaN</td>\n",
       "    </tr>\n",
       "    <tr>\n",
       "      <td>378</td>\n",
       "      <td>NaN</td>\n",
       "    </tr>\n",
       "  </tbody>\n",
       "</table>\n",
       "<p>379 rows × 1 columns</p>\n",
       "</div>"
      ],
      "text/plain": [
       "     1.043893583118915558e-02\n",
       "0                         0.0\n",
       "1                         0.0\n",
       "2                         0.0\n",
       "3                         0.0\n",
       "4                         0.0\n",
       "..                        ...\n",
       "374                       NaN\n",
       "375                       NaN\n",
       "376                       NaN\n",
       "377                       NaN\n",
       "378                       NaN\n",
       "\n",
       "[379 rows x 1 columns]"
      ]
     },
     "execution_count": 5,
     "metadata": {},
     "output_type": "execute_result"
    }
   ],
   "source": [
    "plotLosses(\"Model_resizing_test_complex_bs=32\")"
   ]
  },
  {
   "cell_type": "code",
   "execution_count": 43,
   "metadata": {
    "scrolled": false
   },
   "outputs": [
    {
     "name": "stdout",
     "output_type": "stream",
     "text": [
      "Val....\n",
      "Unpacking epidural\n",
      "Unpacking intraparenchymal\n",
      "Unpacking subarachnoid\n",
      "Unpacking intraventricular\n",
      "Unpacking subdural\n",
      "Unpacking nohem\n",
      "0\n",
      "1\n",
      "2\n",
      "3\n",
      "4\n",
      "5\n",
      "6\n",
      "7\n",
      "8\n",
      "9\n",
      "10\n",
      "11\n",
      "12\n",
      "13\n",
      "14\n",
      "15\n",
      "16\n",
      "17\n",
      "18\n",
      "19\n"
     ]
    },
    {
     "data": {
      "image/png": "[encoded data removed]",
      "text/plain": [
       "<Figure size 432x288 with 1 Axes>"
      ]
     },
     "metadata": {
      "needs_background": "light"
     },
     "output_type": "display_data"
    }
   ],
   "source": [
    "print(\"Val....\")\n",
    "\n",
    "val_folders = [\n",
    "    \"../Data/Processed/val/epidural\",\n",
    "    \"../Data/Processed/val/intraparenchymal\",\n",
    "    \"../Data/Processed/val/subarachnoid\",\n",
    "    \"../Data/Processed/val/intraventricular\",\n",
    "    \"../Data/Processed/val/subdural\",\n",
    "    \"../Data/Processed/val/nohem\",\n",
    "]\n",
    "\n",
    "val_data = Data(val_folders, {\n",
    "    \"epidural\":\"any\", \n",
    "    \"intraparenchymal\":\"any\", \n",
    "    \"subarachnoid\":\"any\", \n",
    "    \"intraventricular\":\"any\", \n",
    "    \"subdural\":\"any\", \n",
    "}, 10, False)\n",
    "\n",
    "plotAccuracy(HemorrhageDetector, \"Model_Overfit_detector_Alex\", train_dataset=train_data, val_dataset=val_data)"
   ]
  },
  {
   "cell_type": "markdown",
   "metadata": {},
   "source": [
    "# 27k"
   ]
  },
  {
   "cell_type": "code",
   "execution_count": 10,
   "metadata": {},
   "outputs": [],
   "source": [
    "# plotLosses(\"Model_27k_detector_Alex\")\n",
    "# ! ls Model_27k_detector_Alex"
   ]
  },
  {
   "cell_type": "code",
   "execution_count": 22,
   "metadata": {},
   "outputs": [
    {
     "name": "stdout",
     "output_type": "stream",
     "text": [
      "0\n",
      "1\n",
      "2\n",
      "3\n",
      "4\n",
      "5\n",
      "6\n",
      "7\n",
      "8\n"
     ]
    },
    {
     "data": {
      "image/png": "[encoded data removed]",
      "text/plain": [
       "<Figure size 432x288 with 1 Axes>"
      ]
     },
     "metadata": {
      "needs_background": "light"
     },
     "output_type": "display_data"
    }
   ],
   "source": [
    "plotAccuracy(HemorrhageDetector, \"Model_27k_detector_Alex\", val_data, train_dataset=train_data)"
   ]
  }
 ],
 "metadata": {
  "kernelspec": {
   "display_name": "Python 3",
   "language": "python",
   "name": "python3"
  },
  "language_info": {
   "codemirror_mode": {
    "name": "ipython",
    "version": 3
   },
   "file_extension": ".py",
   "mimetype": "text/x-python",
   "name": "python",
   "nbconvert_exporter": "python",
   "pygments_lexer": "ipython3",
   "version": "3.7.3"
  }
 },
 "nbformat": 4,
 "nbformat_minor": 2
}
