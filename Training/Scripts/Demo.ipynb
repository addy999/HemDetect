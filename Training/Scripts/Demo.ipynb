{
 "cells": [
  {
   "cell_type": "code",
   "execution_count": 1,
   "metadata": {},
   "outputs": [],
   "source": [
    "%%capture\n",
    "import numpy as np\n",
    "import pickle\n",
    "from IPython.display import display\n",
    "import matplotlib.pyplot as plt\n",
    "import os\n",
    "import sys\n",
    "sys.path.append(r\"../../Data\")\n",
    "from dataloader import Data\n",
    "\n",
    "val_folders = [\n",
    "    \"../../Data/Processed/val/epidural\",\n",
    "    \"../../Data/Processed/val/intraparenchymal\",\n",
    "    \"../../Data/Processed/val/subarachnoid\",\n",
    "    \"../../Data/Processed/val/intraventricular\",\n",
    "    \"../../Data/Processed/val/subdural\",\n",
    "    \"../../Data/Processed/val/nohem\",    \n",
    "]\n",
    "data=Data(val_folders, {\n",
    "                \"epidural\":\"any\", \n",
    "                \"intraparenchymal\":\"any\", \n",
    "                \"subarachnoid\":\"any\", \n",
    "                \"intraventricular\":\"any\", \n",
    "                \"subdural\":\"any\", \n",
    "            }, maximum_per_folder = (-100,None),  tl_model = \"alexnet\", in_channels=3\n",
    ")"
   ]
  },
  {
   "cell_type": "code",
   "execution_count": 69,
   "metadata": {},
   "outputs": [],
   "source": [
    "import torch.nn.functional as F\n",
    "import torch\n",
    "\n",
    "def getRandomImg():\n",
    "    path = r\"../../Data/Processed2/\"\n",
    "    idx = np.random.randint(len(data))\n",
    "    file = data.files[idx]\n",
    "    img, label = data[idx]\n",
    "    \n",
    "    return file, label\n",
    "\n",
    "def showTLImg(path):\n",
    "    path = r\"../../Data/Processed2/alexnet-3-\" + path\n",
    "    unpickled = pickle.load(open(path, \"rb\"))\n",
    "    array = unpickled.cpu().clone().numpy()\n",
    "    for img in array:\n",
    "        plt.imshow(img, cmap=\"bone\")\n",
    "\n",
    "def showRawImg(img):\n",
    "    folder = r\"../../Data/dataset/stage_1_train_images\"\n",
    "    img_path = os.path.join(folder, img)\n",
    "    unpickled = pickle.load(open(img_path, \"rb\"))\n",
    "    plt.imshow(unpickled, cmap=\"bone\")  \n",
    "\n",
    "def showProcessedImg(_img):\n",
    "    for folder in val_folders:\n",
    "        imgs = [img for img in os.listdir(folder)]\n",
    "        if _img in imgs:\n",
    "            break\n",
    "    \n",
    "    img_path = os.path.join(folder, _img)\n",
    "    unpickled = pickle.load(open(img_path, \"rb\"))\n",
    "    plt.imshow(unpickled, cmap=\"bone\")  \n",
    "\n",
    "def predict(img, threshold = 0.5):\n",
    "    path = r\"../Models/detect_alex3, imgs=27k, bs=128, epoch=20, lr=0.0001/19_epoch.pt\" \n",
    "    model=torch.load(path).cuda()\n",
    "    \n",
    "    path = r\"../../Data/Processed2/alexnet-3-\" + img\n",
    "    unpickled = pickle.load(open(path, \"rb\"))\n",
    "    \n",
    "    result = torch.sigmoid(model(unpickled))\n",
    "    \n",
    "    if result <= threshold:\n",
    "        print(\"> Hem\")\n",
    "    else:\n",
    "        print(\"> No Hem\")\n",
    "    \n",
    "    return float(result)\n",
    "\n",
    "def error(prediction, label):\n",
    "    \n",
    "    err= 100*abs(prediction-label)\n",
    "    \n",
    "    print(\"Prediction error of {}\".format(err))"
   ]
  },
  {
   "cell_type": "markdown",
   "metadata": {},
   "source": [
    "---\n",
    "# 1. Pick Img"
   ]
  },
  {
   "cell_type": "code",
   "execution_count": 54,
   "metadata": {},
   "outputs": [],
   "source": [
    "img,label = getRandomImg()"
   ]
  },
  {
   "cell_type": "markdown",
   "metadata": {},
   "source": [
    "# 2. Process"
   ]
  },
  {
   "cell_type": "code",
   "execution_count": 66,
   "metadata": {},
   "outputs": [],
   "source": [
    "showProcessedImg(img)"
   ]
  },
  {
   "cell_type": "markdown",
   "metadata": {},
   "source": [
    "---\n",
    "# 3. Apply Transfer Learning  - AlexNet"
   ]
  },
  {
   "cell_type": "code",
   "execution_count": 67,
   "metadata": {},
   "outputs": [],
   "source": [
    "showTLImg(img)"
   ]
  },
  {
   "cell_type": "markdown",
   "metadata": {},
   "source": [
    "# 4. Predict"
   ]
  },
  {
   "cell_type": "code",
   "execution_count": 72,
   "metadata": {},
   "outputs": [],
   "source": [
    "result=predict(img)\n",
    "error(result, label)"
   ]
  }
 ],
 "metadata": {
  "kernelspec": {
   "display_name": "Python 3",
   "language": "python",
   "name": "python3"
  },
  "language_info": {
   "codemirror_mode": {
    "name": "ipython",
    "version": 3
   },
   "file_extension": ".py",
   "mimetype": "text/x-python",
   "name": "python",
   "nbconvert_exporter": "python",
   "pygments_lexer": "ipython3",
   "version": "3.5.3"
  }
 },
 "nbformat": 4,
 "nbformat_minor": 2
}
