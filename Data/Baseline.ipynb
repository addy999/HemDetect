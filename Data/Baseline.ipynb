{
 "cells": [
  {
   "cell_type": "code",
   "execution_count": 13,
   "metadata": {},
   "outputs": [],
   "source": [
    "import os\n",
    "import pydicom\n",
    "import pandas as pd"
   ]
  },
  {
   "cell_type": "code",
   "execution_count": 14,
   "metadata": {},
   "outputs": [],
   "source": [
    "%matplotlib inline\n",
    "import pylab"
   ]
  },
  {
   "cell_type": "markdown",
   "metadata": {},
   "source": [
    "## Get categories"
   ]
  },
  {
   "cell_type": "code",
   "execution_count": 15,
   "metadata": {},
   "outputs": [],
   "source": [
    "train_csv_path = \"dataset/stage_1_train.csv\"\n",
    "train_data = pd.read_csv(train_csv_path)"
   ]
  },
  {
   "cell_type": "code",
   "execution_count": 16,
   "metadata": {},
   "outputs": [],
   "source": [
    "def getImageName(_id):\n",
    "    return _id.replace(\"_any\",\"\")+\".dcm\""
   ]
  },
  {
   "cell_type": "code",
   "execution_count": 17,
   "metadata": {},
   "outputs": [],
   "source": [
    "hem = []\n",
    "nohem = []\n",
    "THRESHOLD = 0.25"
   ]
  },
  {
   "cell_type": "code",
   "execution_count": 18,
   "metadata": {},
   "outputs": [],
   "source": [
    "for _id, label in train_data.values:\n",
    "    if 'any' in _id:\n",
    "        if label > THRESHOLD:\n",
    "            hem.append(getImageName(_id))\n",
    "        else:\n",
    "            nohem.append(getImageName(_id))"
   ]
  },
  {
   "cell_type": "code",
   "execution_count": 19,
   "metadata": {},
   "outputs": [
    {
     "data": {
      "text/plain": [
       "[97103, 577159]"
      ]
     },
     "execution_count": 19,
     "metadata": {},
     "output_type": "execute_result"
    }
   ],
   "source": [
    "[len(hem), len(nohem)]"
   ]
  },
  {
   "cell_type": "code",
   "execution_count": 22,
   "metadata": {},
   "outputs": [
    {
     "data": {
      "text/plain": [
       "<BarContainer object of 2 artists>"
      ]
     },
     "execution_count": 22,
     "metadata": {},
     "output_type": "execute_result"
    },
    {
     "data": {
      "image/png": "[encoded data removed]",
      "text/plain": [
       "<Figure size 432x288 with 1 Axes>"
      ]
     },
     "metadata": {
      "needs_background": "light"
     },
     "output_type": "display_data"
    }
   ],
   "source": [
    "pylab.bar(['Hem', 'No Hem'], [len(hem), len(nohem)])"
   ]
  },
  {
   "cell_type": "markdown",
   "metadata": {},
   "source": [
    "## Analyze"
   ]
  },
  {
   "cell_type": "markdown",
   "metadata": {},
   "source": [
    "### Setup"
   ]
  },
  {
   "cell_type": "code",
   "execution_count": 11,
   "metadata": {},
   "outputs": [],
   "source": [
    "import numpy as np"
   ]
  },
  {
   "cell_type": "code",
   "execution_count": 12,
   "metadata": {},
   "outputs": [],
   "source": [
    "dirpath=\"dataset/stage_1_train_images\""
   ]
  },
  {
   "cell_type": "code",
   "execution_count": 20,
   "metadata": {},
   "outputs": [],
   "source": [
    "file_path = os.path.join(dirpath, hem[0])\n",
    "dc = pydicom.dcmread(file_path)"
   ]
  },
  {
   "cell_type": "code",
   "execution_count": 21,
   "metadata": {},
   "outputs": [],
   "source": [
    "def getImg(dc):\n",
    "    '''Scale pixel data to Hounsfield units with a linear transformation'''\n",
    "    intercept = dc[('0028','1052')].value\n",
    "    slope = dc[('0028','1053')].value\n",
    "    return dc.pixel_array * slope + intercept    "
   ]
  },
  {
   "cell_type": "code",
   "execution_count": 42,
   "metadata": {},
   "outputs": [],
   "source": [
    "from PIL import Image, ImageEnhance"
   ]
  },
  {
   "cell_type": "code",
   "execution_count": 61,
   "metadata": {},
   "outputs": [
    {
     "data": {
      "text/plain": [
       "255.0"
      ]
     },
     "execution_count": 61,
     "metadata": {},
     "output_type": "execute_result"
    }
   ],
   "source": [
    "max(np.asarray(cleanDC(dc)).flatten())"
   ]
  },
  {
   "cell_type": "code",
   "execution_count": 72,
   "metadata": {},
   "outputs": [
    {
     "data": {
      "text/plain": [
       "29105"
      ]
     },
     "execution_count": 72,
     "metadata": {},
     "output_type": "execute_result"
    }
   ],
   "source": [
    "pil_img = Image.fromarray(cleanDC(dc), mode=\"RGB\")\n",
    "sum(np.asarray(pil_img).flatten())\n",
    "# pil_img"
   ]
  },
  {
   "cell_type": "code",
   "execution_count": 101,
   "metadata": {},
   "outputs": [],
   "source": [
    "def change_contrast(img, level):\n",
    "    factor = (259 * (level + 255)) / (255 * (259 - level))\n",
    "    def contrast(c):\n",
    "        value = 128 + factor * (c - 128)\n",
    "        return max(0, min(255, value))\n",
    "    return img.point(contrast)"
   ]
  },
  {
   "cell_type": "code",
   "execution_count": 106,
   "metadata": {},
   "outputs": [
    {
     "data": {
      "text/plain": [
       "0"
      ]
     },
     "execution_count": 106,
     "metadata": {},
     "output_type": "execute_result"
    }
   ],
   "source": [
    "min(np.asarray(change_contrast(pil_img, 100)).flatten())"
   ]
  },
  {
   "cell_type": "code",
   "execution_count": 93,
   "metadata": {},
   "outputs": [
    {
     "data": {
      "text/plain": [
       "25092"
      ]
     },
     "execution_count": 93,
     "metadata": {},
     "output_type": "execute_result"
    }
   ],
   "source": [
    "sum(np.asarray(change_contrast(pil_img, 100)).flatten())"
   ]
  },
  {
   "cell_type": "code",
   "execution_count": 123,
   "metadata": {},
   "outputs": [],
   "source": [
    "def cleanDC(dc, clip_range = (13,75)):\n",
    "    # Linear transorm image to HU units\n",
    "    img = getImg(dc)\n",
    "    \n",
    "    # Clamp pixel values to only HU range we want\n",
    "    clipped = np.clip(img, clip_range[0], clip_range[1])\n",
    "    \n",
    "    # Normlaize pixels from 0-1\n",
    "    norm = (clipped - min(clipped.flatten())) / (max(clipped.flatten())-min(clipped.flatten()))\n",
    "    \n",
    "    # Scale values from 0-255 for CNN's\n",
    "    rgb_scaled = 255 * norm\n",
    "    \n",
    "    pil_img = Image.fromarray(rgb_scaled, mode=\"L\")\n",
    "    contrasted = np.asarray(change_contrast(pil_img, 10))\n",
    "    \n",
    "    return (contrasted - min(contrasted.flatten())) / (max(contrasted.flatten())-min(contrasted.flatten()))"
   ]
  },
  {
   "cell_type": "code",
   "execution_count": 124,
   "metadata": {},
   "outputs": [
    {
     "name": "stderr",
     "output_type": "stream",
     "text": [
      "/usr/local/lib/python3.7/dist-packages/ipykernel_launcher.py:17: RuntimeWarning: invalid value encountered in true_divide\n",
      "/usr/local/lib/python3.7/dist-packages/ipykernel_launcher.py:5: RuntimeWarning: invalid value encountered in greater\n",
      "  \"\"\"\n"
     ]
    },
    {
     "data": {
      "text/plain": [
       "0.0"
      ]
     },
     "execution_count": 124,
     "metadata": {},
     "output_type": "execute_result"
    },
    {
     "data": {
      "image/png": "[encoded data removed]",
      "text/plain": [
       "<Figure size 432x288 with 1 Axes>"
      ]
     },
     "metadata": {
      "needs_background": "light"
     },
     "output_type": "display_data"
    }
   ],
   "source": [
    "pylab.imshow(cleanDC(dc, (13,75)), cmap=\"bone\")\n",
    "getRatio(cleanDC(dc, (13,75)), 0.1)"
   ]
  },
  {
   "cell_type": "code",
   "execution_count": 117,
   "metadata": {},
   "outputs": [
    {
     "name": "stderr",
     "output_type": "stream",
     "text": [
      "/usr/local/lib/python3.7/dist-packages/ipykernel_launcher.py:17: RuntimeWarning: invalid value encountered in true_divide\n",
      "/usr/local/lib/python3.7/dist-packages/ipykernel_launcher.py:5: RuntimeWarning: invalid value encountered in greater\n",
      "  \"\"\"\n"
     ]
    },
    {
     "data": {
      "text/plain": [
       "0.0"
      ]
     },
     "execution_count": 117,
     "metadata": {},
     "output_type": "execute_result"
    },
    {
     "data": {
      "image/png": "[encoded data removed]",
      "text/plain": [
       "<Figure size 432x288 with 1 Axes>"
      ]
     },
     "metadata": {
      "needs_background": "light"
     },
     "output_type": "display_data"
    }
   ],
   "source": [
    "pylab.imshow(cleanDC(dc, (13, 100)), cmap=\"bone\")\n",
    "getRatio(cleanDC(dc, (13,100)), 0.1)"
   ]
  },
  {
   "cell_type": "markdown",
   "metadata": {},
   "source": [
    "### Iterate"
   ]
  },
  {
   "cell_type": "code",
   "execution_count": 13,
   "metadata": {},
   "outputs": [
    {
     "name": "stderr",
     "output_type": "stream",
     "text": [
      "/usr/local/lib/python3.7/dist-packages/ipykernel_launcher.py:7: RuntimeWarning: invalid value encountered in true_divide\n",
      "  import sys\n"
     ]
    },
    {
     "name": "stdout",
     "output_type": "stream",
     "text": [
      "1/4 done!\n",
      "Half done!\n",
      "3/4 done!\n"
     ]
    }
   ],
   "source": [
    "files_to_analyze_each = 1000\n",
    "hem_imgs = []\n",
    "nohem_imgs = []\n",
    "for i in range(files_to_analyze_each):\n",
    "    \n",
    "    if i == files_to_analyze_each/4:\n",
    "        print('1/4 done!')\n",
    "        \n",
    "    if i == files_to_analyze_each/2:\n",
    "        print('Half done!')\n",
    "    \n",
    "    if i == 3*files_to_analyze_each/4:\n",
    "        print('3/4 done!')\n",
    "    \n",
    "    #hem\n",
    "    try:\n",
    "        file_path = os.path.join(dirpath, hem[i])\n",
    "        hem_imgs.append(cleanDC(pydicom.dcmread(file_path), (13,100)))\n",
    "    except:\n",
    "        pass\n",
    "#         file_path = os.path.join(dirpath, hem[len(hem)-1-i])\n",
    "#         hem_imgs.append(cleanDC(pydicom.dcmread(file_path), (13,100)) )              \n",
    "    \n",
    "    #no hem\n",
    "    try:\n",
    "        file_path = os.path.join(dirpath, nohem[i])\n",
    "        nohem_imgs.append(cleanDC(pydicom.dcmread(file_path), (13,100)))\n",
    "    except:\n",
    "        pass\n",
    "#         file_path = os.path.join(dirpath, nohem[len(hem)-1-i])\n",
    "#         nohem_imgs.append(cleanDC(pydicom.dcmread(file_path), (13,100)) )  "
   ]
  },
  {
   "cell_type": "code",
   "execution_count": 15,
   "metadata": {},
   "outputs": [],
   "source": [
    "nohem_imgs = nohem_imgs[:-1]"
   ]
  },
  {
   "cell_type": "code",
   "execution_count": 16,
   "metadata": {},
   "outputs": [
    {
     "data": {
      "text/plain": [
       "(999, 999)"
      ]
     },
     "execution_count": 16,
     "metadata": {},
     "output_type": "execute_result"
    }
   ],
   "source": [
    "len(hem_imgs), len(nohem_imgs)"
   ]
  },
  {
   "cell_type": "code",
   "execution_count": 75,
   "metadata": {},
   "outputs": [],
   "source": [
    "def getRatio(img, threshold):\n",
    "    \n",
    "    ''' Over threhsold / under threshold '''\n",
    "    \n",
    "    over_threshold = len(np.where(img > threshold)[0])\n",
    "    return over_threshold / (len(img.flatten()) - over_threshold)    \n",
    "\n",
    "def getCount(img, threshold):\n",
    "    \n",
    "    ''' Over threhsold,  under threshold '''\n",
    "    \n",
    "    over_threshold = len(np.where(img > threshold)[0])\n",
    "    return over_threshold\n",
    "\n",
    "def average(_list):\n",
    "    return sum(_list) / len(_list)"
   ]
  },
  {
   "cell_type": "code",
   "execution_count": 18,
   "metadata": {},
   "outputs": [],
   "source": [
    "def plotRatios(hem_imgs, nohem_imgs, threshold):\n",
    "    hem_ratios = []\n",
    "    no_hem_ratios = []\n",
    "\n",
    "    for _hem, _nohem in zip(hem_imgs, nohem_imgs):\n",
    "        hem_ratios.append(getRatio(_hem, threshold))\n",
    "        no_hem_ratios.append(getRatio(_nohem, threshold))  \n",
    "        \n",
    "#         hem_ratios.append(getCount(_hem, threshold))\n",
    "#         no_hem_ratios.append(getCount(_nohem, threshold))  \n",
    "\n",
    "    print(\"Using threhsold of \", threshold)\n",
    "    print('Hem ratio', average(hem_ratios), 'Non hem ratio', average(no_hem_ratios))\n",
    "    pylab.bar([\"Hem\", \"No hem\"], [average(hem_ratios), average(no_hem_ratios)])"
   ]
  },
  {
   "cell_type": "code",
   "execution_count": 19,
   "metadata": {},
   "outputs": [
    {
     "name": "stderr",
     "output_type": "stream",
     "text": [
      "/usr/local/lib/python3.7/dist-packages/ipykernel_launcher.py:5: RuntimeWarning: invalid value encountered in greater\n",
      "  \"\"\"\n"
     ]
    },
    {
     "name": "stdout",
     "output_type": "stream",
     "text": [
      "Using threhsold of  0.1\n",
      "Hem ratio 0.40650796666213573 Non hem ratio 0.3173628877008454\n"
     ]
    },
    {
     "data": {
      "image/png": "[encoded data removed]",
      "text/plain": [
       "<Figure size 432x288 with 1 Axes>"
      ]
     },
     "metadata": {
      "needs_background": "light"
     },
     "output_type": "display_data"
    }
   ],
   "source": [
    "# 13-100\n",
    "plotRatios(hem_imgs, nohem_imgs, 0.1)"
   ]
  },
  {
   "cell_type": "code",
   "execution_count": 20,
   "metadata": {},
   "outputs": [
    {
     "name": "stderr",
     "output_type": "stream",
     "text": [
      "/usr/local/lib/python3.7/dist-packages/ipykernel_launcher.py:5: RuntimeWarning: invalid value encountered in greater\n",
      "  \"\"\"\n"
     ]
    },
    {
     "name": "stdout",
     "output_type": "stream",
     "text": [
      "Using threhsold of  0.5\n",
      "Hem ratio 0.11188619418641285 Non hem ratio 0.11987294995731303\n"
     ]
    },
    {
     "data": {
      "image/png": "[encoded data removed]",
      "text/plain": [
       "<Figure size 432x288 with 1 Axes>"
      ]
     },
     "metadata": {
      "needs_background": "light"
     },
     "output_type": "display_data"
    }
   ],
   "source": [
    "plotRatios(hem_imgs, nohem_imgs, 0.5)"
   ]
  },
  {
   "cell_type": "code",
   "execution_count": 21,
   "metadata": {},
   "outputs": [
    {
     "name": "stderr",
     "output_type": "stream",
     "text": [
      "/usr/local/lib/python3.7/dist-packages/ipykernel_launcher.py:5: RuntimeWarning: invalid value encountered in greater\n",
      "  \"\"\"\n"
     ]
    },
    {
     "name": "stdout",
     "output_type": "stream",
     "text": [
      "Using threhsold of  0.75\n",
      "Hem ratio 0.09623975984035682 Non hem ratio 0.10534346781953931\n"
     ]
    },
    {
     "data": {
      "image/png": "[encoded data removed]",
      "text/plain": [
       "<Figure size 432x288 with 1 Axes>"
      ]
     },
     "metadata": {
      "needs_background": "light"
     },
     "output_type": "display_data"
    }
   ],
   "source": [
    "plotRatios(hem_imgs, nohem_imgs, 0.75)"
   ]
  },
  {
   "cell_type": "markdown",
   "metadata": {},
   "source": [
    "## Train"
   ]
  },
  {
   "cell_type": "code",
   "execution_count": 22,
   "metadata": {},
   "outputs": [],
   "source": [
    "def predictHem(img, hem_ratio = 0.40650796666213573, no_hem_ratio = 0.3173628877008454, pixel_threshold=0.1):\n",
    "    ratio_threshold = average([hem_ratio, no_hem_ratio])\n",
    "    ratio = getRatio(img, pixel_threshold)\n",
    "    \n",
    "    if ratio > ratio_threshold:\n",
    "        return 1 # hem\n",
    "    else:\n",
    "        return 0 # no hem"
   ]
  },
  {
   "cell_type": "code",
   "execution_count": 23,
   "metadata": {},
   "outputs": [],
   "source": [
    "def accuracy(trueval, testval):\n",
    "    \n",
    "    if trueval == 0:\n",
    "        return 100 * abs(trueval-testval)\n",
    "    \n",
    "    return 100 * abs(trueval-testval) / trueval"
   ]
  },
  {
   "cell_type": "code",
   "execution_count": 33,
   "metadata": {},
   "outputs": [],
   "source": [
    "files_to_analyze_each = 100\n",
    "test_imgs = []\n",
    "test_labels = []\n",
    "for i in range(1, files_to_analyze_each+1):\n",
    "    \n",
    "    #hem\n",
    "    try:\n",
    "        file_path = os.path.join(dirpath, hem[-i])\n",
    "        test_imgs.append(cleanDC(pydicom.dcmread(file_path), (13,100)))\n",
    "        test_labels.append(1)\n",
    "    except:\n",
    "        pass\n",
    "         \n",
    "    \n",
    "    #no hem\n",
    "    try:\n",
    "        file_path = os.path.join(dirpath, nohem[-i])\n",
    "        test_imgs.append(cleanDC(pydicom.dcmread(file_path), (13,100)))\n",
    "        test_labels.append(0)\n",
    "    except:\n",
    "        pass"
   ]
  },
  {
   "cell_type": "code",
   "execution_count": 38,
   "metadata": {},
   "outputs": [
    {
     "data": {
      "text/plain": [
       "200"
      ]
     },
     "execution_count": 38,
     "metadata": {},
     "output_type": "execute_result"
    }
   ],
   "source": [
    "len(test_imgs)"
   ]
  },
  {
   "cell_type": "code",
   "execution_count": 40,
   "metadata": {},
   "outputs": [],
   "source": [
    "accuracies = []\n",
    "for label, img in zip(test_labels, test_imgs):\n",
    "    prediction = predictHem(img)\n",
    "    accuracies.append(accuracy(label, prediction))"
   ]
  },
  {
   "cell_type": "code",
   "execution_count": 46,
   "metadata": {},
   "outputs": [
    {
     "data": {
      "text/plain": [
       "0.365"
      ]
     },
     "execution_count": 46,
     "metadata": {},
     "output_type": "execute_result"
    }
   ],
   "source": [
    "accuracies = np.array(accuracies)\n",
    "len(np.where(accuracies > 0)[0])/len(test_imgs)"
   ]
  },
  {
   "cell_type": "code",
   "execution_count": 42,
   "metadata": {},
   "outputs": [
    {
     "data": {
      "text/plain": [
       "[<matplotlib.lines.Line2D at 0x7fb5b590eba8>]"
      ]
     },
     "execution_count": 42,
     "metadata": {},
     "output_type": "execute_result"
    },
    {
     "data": {
      "image/png": "[encoded data removed]",
      "text/plain": [
       "<Figure size 432x288 with 1 Axes>"
      ]
     },
     "metadata": {
      "needs_background": "light"
     },
     "output_type": "display_data"
    }
   ],
   "source": [
    "pylab.plot(accuracies)"
   ]
  }
 ],
 "metadata": {
  "kernelspec": {
   "display_name": "Python 3",
   "language": "python",
   "name": "python3"
  },
  "language_info": {
   "codemirror_mode": {
    "name": "ipython",
    "version": 3
   },
   "file_extension": ".py",
   "mimetype": "text/x-python",
   "name": "python",
   "nbconvert_exporter": "python",
   "pygments_lexer": "ipython3",
   "version": "3.7.3"
  }
 },
 "nbformat": 4,
 "nbformat_minor": 2
}
