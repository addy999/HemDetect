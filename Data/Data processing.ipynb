{
 "cells": [
  {
   "cell_type": "code",
   "execution_count": 1,
   "metadata": {},
   "outputs": [],
   "source": [
    "import os\n",
    "import pydicom\n",
    "import pandas as pd\n",
    "%matplotlib inline\n",
    "import matplotlib.pyplot as plt\n",
    "import os"
   ]
  },
  {
   "cell_type": "code",
   "execution_count": 2,
   "metadata": {},
   "outputs": [],
   "source": [
    "train_data_path = '../dataset/stage_1_train_images'\n",
    "train_csv_path = \"../dataset/stage_1_train.csv\"\n",
    "img_names = os.listdir(train_data_path)"
   ]
  },
  {
   "cell_type": "code",
   "execution_count": 3,
   "metadata": {},
   "outputs": [],
   "source": [
    "def loadTrainingData():\n",
    "    train_pred_data = pd.read_csv(train_csv_path, index_col=False)\n",
    "    train_pred_data.index = train_pred_data['ID'].values\n",
    "    return train_pred_data"
   ]
  },
  {
   "cell_type": "code",
   "execution_count": 4,
   "metadata": {},
   "outputs": [],
   "source": [
    "train_pred_data = loadTrainingData()"
   ]
  },
  {
   "cell_type": "code",
   "execution_count": 5,
   "metadata": {},
   "outputs": [
    {
     "data": {
      "text/plain": [
       "674258"
      ]
     },
     "execution_count": 5,
     "metadata": {},
     "output_type": "execute_result"
    }
   ],
   "source": [
    "len(img_names)"
   ]
  },
  {
   "cell_type": "code",
   "execution_count": 6,
   "metadata": {},
   "outputs": [
    {
     "data": {
      "text/html": [
       "<div>\n",
       "<style scoped>\n",
       "    .dataframe tbody tr th:only-of-type {\n",
       "        vertical-align: middle;\n",
       "    }\n",
       "\n",
       "    .dataframe tbody tr th {\n",
       "        vertical-align: top;\n",
       "    }\n",
       "\n",
       "    .dataframe thead th {\n",
       "        text-align: right;\n",
       "    }\n",
       "</style>\n",
       "<table border=\"1\" class=\"dataframe\">\n",
       "  <thead>\n",
       "    <tr style=\"text-align: right;\">\n",
       "      <th></th>\n",
       "      <th>ID</th>\n",
       "      <th>Label</th>\n",
       "    </tr>\n",
       "  </thead>\n",
       "  <tbody>\n",
       "    <tr>\n",
       "      <td>ID_63eb1e259_epidural</td>\n",
       "      <td>ID_63eb1e259_epidural</td>\n",
       "      <td>0</td>\n",
       "    </tr>\n",
       "    <tr>\n",
       "      <td>ID_63eb1e259_intraparenchymal</td>\n",
       "      <td>ID_63eb1e259_intraparenchymal</td>\n",
       "      <td>0</td>\n",
       "    </tr>\n",
       "    <tr>\n",
       "      <td>ID_63eb1e259_intraventricular</td>\n",
       "      <td>ID_63eb1e259_intraventricular</td>\n",
       "      <td>0</td>\n",
       "    </tr>\n",
       "    <tr>\n",
       "      <td>ID_63eb1e259_subarachnoid</td>\n",
       "      <td>ID_63eb1e259_subarachnoid</td>\n",
       "      <td>0</td>\n",
       "    </tr>\n",
       "    <tr>\n",
       "      <td>ID_63eb1e259_subdural</td>\n",
       "      <td>ID_63eb1e259_subdural</td>\n",
       "      <td>0</td>\n",
       "    </tr>\n",
       "    <tr>\n",
       "      <td>ID_63eb1e259_any</td>\n",
       "      <td>ID_63eb1e259_any</td>\n",
       "      <td>0</td>\n",
       "    </tr>\n",
       "  </tbody>\n",
       "</table>\n",
       "</div>"
      ],
      "text/plain": [
       "                                                          ID  Label\n",
       "ID_63eb1e259_epidural                  ID_63eb1e259_epidural      0\n",
       "ID_63eb1e259_intraparenchymal  ID_63eb1e259_intraparenchymal      0\n",
       "ID_63eb1e259_intraventricular  ID_63eb1e259_intraventricular      0\n",
       "ID_63eb1e259_subarachnoid          ID_63eb1e259_subarachnoid      0\n",
       "ID_63eb1e259_subdural                  ID_63eb1e259_subdural      0\n",
       "ID_63eb1e259_any                            ID_63eb1e259_any      0"
      ]
     },
     "execution_count": 6,
     "metadata": {},
     "output_type": "execute_result"
    }
   ],
   "source": [
    "train_pred_data[:6]"
   ]
  },
  {
   "cell_type": "markdown",
   "metadata": {},
   "source": [
    "# Split data into categories"
   ]
  },
  {
   "cell_type": "code",
   "execution_count": 7,
   "metadata": {},
   "outputs": [],
   "source": [
    "categorized_images = {\n",
    "    'epidural' : {0:[], 1:[]}, \n",
    "    'intraparenchymal' : {0:[], 1:[]}, \n",
    "    'intraventricular' : {0:[], 1:[]}, \n",
    "    'subarachnoid' : {0:[], 1:[]}, \n",
    "    'subdural' : {0:[], 1:[]},\n",
    "    'any' : {0:[], 1:[]}\n",
    "}"
   ]
  },
  {
   "cell_type": "code",
   "execution_count": 8,
   "metadata": {},
   "outputs": [
    {
     "name": "stdout",
     "output_type": "stream",
     "text": [
      "CPU times: user 3.96 s, sys: 295 ms, total: 4.25 s\n",
      "Wall time: 4.25 s\n"
     ]
    }
   ],
   "source": [
    "%%time\n",
    "for img_id_cat,label in train_pred_data.values:\n",
    "    img_id = img_id_cat[:12]\n",
    "    cat = img_id_cat[13:]\n",
    "    categorized_images[cat][label].append(img_id)"
   ]
  },
  {
   "cell_type": "code",
   "execution_count": 9,
   "metadata": {},
   "outputs": [
    {
     "data": {
      "text/plain": [
       "674262"
      ]
     },
     "execution_count": 9,
     "metadata": {},
     "output_type": "execute_result"
    }
   ],
   "source": [
    "len(categorized_images[\"any\"][0]) + len(categorized_images[\"any\"][1])"
   ]
  },
  {
   "cell_type": "markdown",
   "metadata": {},
   "source": [
    "# Analyze"
   ]
  },
  {
   "cell_type": "code",
   "execution_count": 10,
   "metadata": {},
   "outputs": [
    {
     "data": {
      "text/plain": [
       "<BarContainer object of 6 artists>"
      ]
     },
     "execution_count": 10,
     "metadata": {},
     "output_type": "execute_result"
    },
    {
     "data": {
      "image/png": "[encoded data removed]",
      "text/plain": [
       "<Figure size 432x288 with 1 Axes>"
      ]
     },
     "metadata": {
      "needs_background": "light"
     },
     "output_type": "display_data"
    }
   ],
   "source": [
    "plt.bar(list(categorized_images.keys()), [len(categorized_images[cat][1]) for cat in categorized_images])"
   ]
  },
  {
   "cell_type": "markdown",
   "metadata": {},
   "source": [
    "# Process"
   ]
  },
  {
   "cell_type": "code",
   "execution_count": 10,
   "metadata": {},
   "outputs": [],
   "source": [
    "import numpy as np\n",
    "def getImg(img_name):\n",
    "    '''Scale pixel data to Hounsfield units with a linear transformation'''\n",
    "    dc = pydicom.dcmread(os.path.join(train_data_path, img_name)+\".dcm\")\n",
    "    intercept = dc[('0028','1052')].value\n",
    "    slope = dc[('0028','1053')].value\n",
    "    return dc.pixel_array * slope + intercept   "
   ]
  },
  {
   "cell_type": "code",
   "execution_count": 11,
   "metadata": {},
   "outputs": [],
   "source": [
    "def cleanDC(img, clip_range = (13,75)):\n",
    "    \n",
    "    # Clamp pixel values to only HU range we want\n",
    "    clipped = np.clip(img, clip_range[0], clip_range[1])\n",
    "    \n",
    "    # Normlaize pixels from 0-1\n",
    "    norm = (clipped - min(clipped.flatten())) / (max(clipped.flatten())-min(clipped.flatten()))\n",
    "    \n",
    "    # Scale values from 0-255 for CNN's\n",
    "    #rgb_scaled = 255 * norm\n",
    "\n",
    "    return norm"
   ]
  },
  {
   "cell_type": "code",
   "execution_count": 14,
   "metadata": {},
   "outputs": [
    {
     "data": {
      "text/plain": [
       "<matplotlib.image.AxesImage at 0x7fc1a484e208>"
      ]
     },
     "execution_count": 14,
     "metadata": {},
     "output_type": "execute_result"
    },
    {
     "data": {
      "image/png": "[encoded data removed]",
      "text/plain": [
       "<Figure size 432x288 with 1 Axes>"
      ]
     },
     "metadata": {
      "needs_background": "light"
     },
     "output_type": "display_data"
    }
   ],
   "source": [
    "# Test raw\n",
    "plt.imshow(getImg(hem[0]), cmap=\"bone\")"
   ]
  },
  {
   "cell_type": "code",
   "execution_count": 15,
   "metadata": {},
   "outputs": [
    {
     "data": {
      "text/plain": [
       "<matplotlib.image.AxesImage at 0x7fc1a4384ef0>"
      ]
     },
     "execution_count": 15,
     "metadata": {},
     "output_type": "execute_result"
    },
    {
     "data": {
      "image/png": "[encoded data removed]",
      "text/plain": [
       "<Figure size 432x288 with 1 Axes>"
      ]
     },
     "metadata": {
      "needs_background": "light"
     },
     "output_type": "display_data"
    }
   ],
   "source": [
    "# Test Processed\n",
    "plt.imshow(cleanDC(getImg(hem[0]), (13,75)), cmap=\"bone\")"
   ]
  },
  {
   "cell_type": "markdown",
   "metadata": {},
   "source": [
    "# Save"
   ]
  },
  {
   "cell_type": "markdown",
   "metadata": {},
   "source": [
    "## Hem or No hem"
   ]
  },
  {
   "cell_type": "code",
   "execution_count": 16,
   "metadata": {},
   "outputs": [],
   "source": [
    "hem = categorized_images[\"any\"][1]\n",
    "nohem = categorized_images[\"any\"][0]"
   ]
  },
  {
   "cell_type": "code",
   "execution_count": null,
   "metadata": {},
   "outputs": [],
   "source": [
    "plt.bar(['Hem', 'No Hem'], [len(hem), len(nohem)])"
   ]
  },
  {
   "cell_type": "code",
   "execution_count": null,
   "metadata": {},
   "outputs": [],
   "source": [
    "os.mkdir(\"Processed\")\n",
    "os.mkdir(\"Processed/Binary\")\n",
    "os.mkdir(\"Processed/Binary/Hem\")\n",
    "os.mkdir(\"Processed/Binary/NoHem\")"
   ]
  },
  {
   "cell_type": "code",
   "execution_count": 17,
   "metadata": {},
   "outputs": [],
   "source": [
    "import pickle\n",
    "def saveFile(img_array, img_name, dir_path):\n",
    "    pickle.dump(img_array, open(dir_path+\"/\"+img_name+\".pickle\", 'wb'))\n",
    "def cleanImg(img_name):\n",
    "    img = getImg(img_name)\n",
    "    return cleanDC(img)"
   ]
  },
  {
   "cell_type": "code",
   "execution_count": 23,
   "metadata": {
    "scrolled": true
   },
   "outputs": [],
   "source": [
    "from multiprocessing import Pool\n",
    "\n",
    "def cleanNSave(img):\n",
    "    \n",
    "    if os.path.exists(\"Processed/Binary/NoHem/\" + img + \".dcm\"): \n",
    "        return None\n",
    "    try:\n",
    "        cleaned_img = cleanImg(img)\n",
    "        saveFile(cleaned_img, img, \"Processed/Binary/NoHem\")\n",
    "    except:\n",
    "        return img\n",
    "\n",
    "# p = Pool()\n",
    "# undone = p.map(cleanNSave, hem)\n",
    "# p.close()\n",
    "# p.join()"
   ]
  },
  {
   "cell_type": "code",
   "execution_count": 24,
   "metadata": {},
   "outputs": [
    {
     "name": "stdout",
     "output_type": "stream",
     "text": [
      "CPU times: user 73 ms, sys: 0 ns, total: 73 ms\n",
      "Wall time: 327 ms\n"
     ]
    }
   ],
   "source": [
    "%time cleanNSave(nohem[-20])"
   ]
  },
  {
   "cell_type": "code",
   "execution_count": null,
   "metadata": {},
   "outputs": [],
   "source": [
    "while None in undone:\n",
    "    undone.remove(None)"
   ]
  },
  {
   "cell_type": "code",
   "execution_count": null,
   "metadata": {},
   "outputs": [],
   "source": [
    "len(undone)"
   ]
  }
 ],
 "metadata": {
  "kernelspec": {
   "display_name": "Python 3",
   "language": "python",
   "name": "python3"
  },
  "language_info": {
   "codemirror_mode": {
    "name": "ipython",
    "version": 3
   },
   "file_extension": ".py",
   "mimetype": "text/x-python",
   "name": "python",
   "nbconvert_exporter": "python",
   "pygments_lexer": "ipython3",
   "version": "3.5.3"
  }
 },
 "nbformat": 4,
 "nbformat_minor": 2
}
