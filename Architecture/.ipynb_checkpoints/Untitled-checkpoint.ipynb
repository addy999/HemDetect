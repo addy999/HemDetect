{
 "cells": [
  {
   "cell_type": "code",
   "execution_count": null,
   "metadata": {},
   "outputs": [],
   "source": [
    "class TransferModel(nn.Module):\n",
    "    def __init__(self):\n",
    "        super(TransferModel, self).__init__()\n",
    "        self.name = \"TransferModel\"\n",
    "        self.fc1 = nn.Linear(256*6*6, 32)\n",
    "        self.fc2 = nn.Linear(32, 9)\n",
    "        for param \n",
    "\n",
    "    def forward(self, x):\n",
    "        x = x.view(-1, 256*6*6)\n",
    "        x = F.relu(self.fc1(x))\n",
    "        x = self.fc2(x)\n",
    "        \n",
    "        return x"
   ]
  }
 ],
 "metadata": {
  "kernelspec": {
   "display_name": "Python 3",
   "language": "python",
   "name": "python3"
  },
  "language_info": {
   "codemirror_mode": {
    "name": "ipython",
    "version": 3
   },
   "file_extension": ".py",
   "mimetype": "text/x-python",
   "name": "python",
   "nbconvert_exporter": "python",
   "pygments_lexer": "ipython3",
   "version": "3.7.3"
  }
 },
 "nbformat": 4,
 "nbformat_minor": 2
}
